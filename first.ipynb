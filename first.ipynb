{
 "cells": [
  {
   "cell_type": "code",
   "execution_count": null,
   "metadata": {},
   "outputs": [],
   "source": [
    "import pandas as pd \n",
    "import numpy as np "
   ]
  },
  {
   "cell_type": "markdown",
   "metadata": {},
   "source": [
    "**Pandas series - like a table column - 1 dimensional data holding any type of data**"
   ]
  },
  {
   "cell_type": "code",
   "execution_count": null,
   "metadata": {},
   "outputs": [],
   "source": [
    "my_series = [5,9,12,27]\n",
    "\n",
    "var = pd.Series(my_series)\n",
    "\n",
    "print(var)"
   ]
  },
  {
   "cell_type": "code",
   "execution_count": null,
   "metadata": {},
   "outputs": [],
   "source": [
    "# print specific values\n",
    "var[2]"
   ]
  },
  {
   "cell_type": "code",
   "execution_count": null,
   "metadata": {},
   "outputs": [],
   "source": [
    "# labels using index arguments\n",
    "\n",
    "arguments = [\"A\",\"B\",\"C\",\"D\"]\n",
    "var2 = pd.Series(my_series,arguments)\n",
    "print(var2)"
   ]
  },
  {
   "cell_type": "code",
   "execution_count": null,
   "metadata": {},
   "outputs": [],
   "source": [
    "var2[\"B\"]"
   ]
  },
  {
   "cell_type": "code",
   "execution_count": null,
   "metadata": {},
   "outputs": [],
   "source": [
    "# key value dictionaries instead of my_series\n",
    "\n",
    "cars = {\"Tesla\":12,\"BMW\": 14, \"Toyota\":11}\n",
    "var3 = pd.Series(cars)\n",
    "print(var3) \n",
    "# we dont then need to create lables separately"
   ]
  },
  {
   "cell_type": "code",
   "execution_count": null,
   "metadata": {},
   "outputs": [],
   "source": [
    "var3[\"Tesla\"]"
   ]
  },
  {
   "cell_type": "markdown",
   "metadata": {},
   "source": [
    "# **We will create our own data frame using random data generated fomr Numpy. We'll also import data from csv file and turn it into a DataFrame. Then return specific rows from our data frame.**"
   ]
  },
  {
   "cell_type": "code",
   "execution_count": null,
   "metadata": {},
   "outputs": [],
   "source": [
    "from numpy.random import randn # for creating random numbers"
   ]
  },
  {
   "cell_type": "code",
   "execution_count": null,
   "metadata": {},
   "outputs": [],
   "source": [
    "my_data = randn(4,3) # randn(row,colomn)\n",
    "print(my_data)  \n",
    "\n",
    "# now create row headers and column headers\n",
    "my_rows = [\"a\",\"b\",\"c\",\"d\"]\n",
    "my_columns = [\"friday\",\"monday\",\"sunday\"]\n",
    "\n"
   ]
  },
  {
   "cell_type": "code",
   "execution_count": null,
   "metadata": {},
   "outputs": [],
   "source": [
    "# create a data frame\n",
    "df = pd.DataFrame(data=my_data,index=my_rows,columns=my_columns)\n",
    "print(df)\n",
    "\n",
    "# this is how can create a manual data set"
   ]
  },
  {
   "cell_type": "markdown",
   "metadata": {},
   "source": [
    "**import a csv file**"
   ]
  },
  {
   "cell_type": "code",
   "execution_count": 31,
   "metadata": {},
   "outputs": [
    {
     "data": {
      "text/html": [
       "<div>\n",
       "<style scoped>\n",
       "    .dataframe tbody tr th:only-of-type {\n",
       "        vertical-align: middle;\n",
       "    }\n",
       "\n",
       "    .dataframe tbody tr th {\n",
       "        vertical-align: top;\n",
       "    }\n",
       "\n",
       "    .dataframe thead th {\n",
       "        text-align: right;\n",
       "    }\n",
       "</style>\n",
       "<table border=\"1\" class=\"dataframe\">\n",
       "  <thead>\n",
       "    <tr style=\"text-align: right;\">\n",
       "      <th></th>\n",
       "      <th>Unnamed: 0</th>\n",
       "      <th>breed</th>\n",
       "      <th>image_path</th>\n",
       "      <th>annotation_path</th>\n",
       "      <th>xmin</th>\n",
       "      <th>ymin</th>\n",
       "      <th>xmax</th>\n",
       "      <th>ymax</th>\n",
       "    </tr>\n",
       "  </thead>\n",
       "  <tbody>\n",
       "    <tr>\n",
       "      <th>0</th>\n",
       "      <td>0</td>\n",
       "      <td>chihuahua</td>\n",
       "      <td>../input/stanford-dogs-dataset/images/Images/n...</td>\n",
       "      <td>../input/stanford-dogs-dataset/annotations/Ann...</td>\n",
       "      <td>25</td>\n",
       "      <td>10</td>\n",
       "      <td>276</td>\n",
       "      <td>498</td>\n",
       "    </tr>\n",
       "    <tr>\n",
       "      <th>1</th>\n",
       "      <td>1</td>\n",
       "      <td>chihuahua</td>\n",
       "      <td>../input/stanford-dogs-dataset/images/Images/n...</td>\n",
       "      <td>../input/stanford-dogs-dataset/annotations/Ann...</td>\n",
       "      <td>49</td>\n",
       "      <td>9</td>\n",
       "      <td>393</td>\n",
       "      <td>493</td>\n",
       "    </tr>\n",
       "    <tr>\n",
       "      <th>2</th>\n",
       "      <td>2</td>\n",
       "      <td>chihuahua</td>\n",
       "      <td>../input/stanford-dogs-dataset/images/Images/n...</td>\n",
       "      <td>../input/stanford-dogs-dataset/annotations/Ann...</td>\n",
       "      <td>142</td>\n",
       "      <td>43</td>\n",
       "      <td>335</td>\n",
       "      <td>250</td>\n",
       "    </tr>\n",
       "    <tr>\n",
       "      <th>3</th>\n",
       "      <td>3</td>\n",
       "      <td>chihuahua</td>\n",
       "      <td>../input/stanford-dogs-dataset/images/Images/n...</td>\n",
       "      <td>../input/stanford-dogs-dataset/annotations/Ann...</td>\n",
       "      <td>0</td>\n",
       "      <td>27</td>\n",
       "      <td>312</td>\n",
       "      <td>498</td>\n",
       "    </tr>\n",
       "    <tr>\n",
       "      <th>4</th>\n",
       "      <td>4</td>\n",
       "      <td>chihuahua</td>\n",
       "      <td>../input/stanford-dogs-dataset/images/Images/n...</td>\n",
       "      <td>../input/stanford-dogs-dataset/annotations/Ann...</td>\n",
       "      <td>90</td>\n",
       "      <td>104</td>\n",
       "      <td>242</td>\n",
       "      <td>452</td>\n",
       "    </tr>\n",
       "    <tr>\n",
       "      <th>...</th>\n",
       "      <td>...</td>\n",
       "      <td>...</td>\n",
       "      <td>...</td>\n",
       "      <td>...</td>\n",
       "      <td>...</td>\n",
       "      <td>...</td>\n",
       "      <td>...</td>\n",
       "      <td>...</td>\n",
       "    </tr>\n",
       "    <tr>\n",
       "      <th>20575</th>\n",
       "      <td>20575</td>\n",
       "      <td>african-hunting-dog</td>\n",
       "      <td>../input/stanford-dogs-dataset/images/Images/n...</td>\n",
       "      <td>../input/stanford-dogs-dataset/annotations/Ann...</td>\n",
       "      <td>8</td>\n",
       "      <td>14</td>\n",
       "      <td>499</td>\n",
       "      <td>349</td>\n",
       "    </tr>\n",
       "    <tr>\n",
       "      <th>20576</th>\n",
       "      <td>20576</td>\n",
       "      <td>african-hunting-dog</td>\n",
       "      <td>../input/stanford-dogs-dataset/images/Images/n...</td>\n",
       "      <td>../input/stanford-dogs-dataset/annotations/Ann...</td>\n",
       "      <td>48</td>\n",
       "      <td>0</td>\n",
       "      <td>499</td>\n",
       "      <td>332</td>\n",
       "    </tr>\n",
       "    <tr>\n",
       "      <th>20577</th>\n",
       "      <td>20577</td>\n",
       "      <td>african-hunting-dog</td>\n",
       "      <td>../input/stanford-dogs-dataset/images/Images/n...</td>\n",
       "      <td>../input/stanford-dogs-dataset/annotations/Ann...</td>\n",
       "      <td>0</td>\n",
       "      <td>39</td>\n",
       "      <td>170</td>\n",
       "      <td>299</td>\n",
       "    </tr>\n",
       "    <tr>\n",
       "      <th>20578</th>\n",
       "      <td>20578</td>\n",
       "      <td>african-hunting-dog</td>\n",
       "      <td>../input/stanford-dogs-dataset/images/Images/n...</td>\n",
       "      <td>../input/stanford-dogs-dataset/annotations/Ann...</td>\n",
       "      <td>235</td>\n",
       "      <td>140</td>\n",
       "      <td>539</td>\n",
       "      <td>334</td>\n",
       "    </tr>\n",
       "    <tr>\n",
       "      <th>20579</th>\n",
       "      <td>20579</td>\n",
       "      <td>african-hunting-dog</td>\n",
       "      <td>../input/stanford-dogs-dataset/images/Images/n...</td>\n",
       "      <td>../input/stanford-dogs-dataset/annotations/Ann...</td>\n",
       "      <td>29</td>\n",
       "      <td>32</td>\n",
       "      <td>235</td>\n",
       "      <td>239</td>\n",
       "    </tr>\n",
       "  </tbody>\n",
       "</table>\n",
       "<p>20580 rows × 8 columns</p>\n",
       "</div>"
      ],
      "text/plain": [
       "       Unnamed: 0                breed  \\\n",
       "0               0            chihuahua   \n",
       "1               1            chihuahua   \n",
       "2               2            chihuahua   \n",
       "3               3            chihuahua   \n",
       "4               4            chihuahua   \n",
       "...           ...                  ...   \n",
       "20575       20575  african-hunting-dog   \n",
       "20576       20576  african-hunting-dog   \n",
       "20577       20577  african-hunting-dog   \n",
       "20578       20578  african-hunting-dog   \n",
       "20579       20579  african-hunting-dog   \n",
       "\n",
       "                                              image_path  \\\n",
       "0      ../input/stanford-dogs-dataset/images/Images/n...   \n",
       "1      ../input/stanford-dogs-dataset/images/Images/n...   \n",
       "2      ../input/stanford-dogs-dataset/images/Images/n...   \n",
       "3      ../input/stanford-dogs-dataset/images/Images/n...   \n",
       "4      ../input/stanford-dogs-dataset/images/Images/n...   \n",
       "...                                                  ...   \n",
       "20575  ../input/stanford-dogs-dataset/images/Images/n...   \n",
       "20576  ../input/stanford-dogs-dataset/images/Images/n...   \n",
       "20577  ../input/stanford-dogs-dataset/images/Images/n...   \n",
       "20578  ../input/stanford-dogs-dataset/images/Images/n...   \n",
       "20579  ../input/stanford-dogs-dataset/images/Images/n...   \n",
       "\n",
       "                                         annotation_path  xmin  ymin  xmax  \\\n",
       "0      ../input/stanford-dogs-dataset/annotations/Ann...    25    10   276   \n",
       "1      ../input/stanford-dogs-dataset/annotations/Ann...    49     9   393   \n",
       "2      ../input/stanford-dogs-dataset/annotations/Ann...   142    43   335   \n",
       "3      ../input/stanford-dogs-dataset/annotations/Ann...     0    27   312   \n",
       "4      ../input/stanford-dogs-dataset/annotations/Ann...    90   104   242   \n",
       "...                                                  ...   ...   ...   ...   \n",
       "20575  ../input/stanford-dogs-dataset/annotations/Ann...     8    14   499   \n",
       "20576  ../input/stanford-dogs-dataset/annotations/Ann...    48     0   499   \n",
       "20577  ../input/stanford-dogs-dataset/annotations/Ann...     0    39   170   \n",
       "20578  ../input/stanford-dogs-dataset/annotations/Ann...   235   140   539   \n",
       "20579  ../input/stanford-dogs-dataset/annotations/Ann...    29    32   235   \n",
       "\n",
       "       ymax  \n",
       "0       498  \n",
       "1       493  \n",
       "2       250  \n",
       "3       498  \n",
       "4       452  \n",
       "...     ...  \n",
       "20575   349  \n",
       "20576   332  \n",
       "20577   299  \n",
       "20578   334  \n",
       "20579   239  \n",
       "\n",
       "[20580 rows x 8 columns]"
      ]
     },
     "execution_count": 31,
     "metadata": {},
     "output_type": "execute_result"
    }
   ],
   "source": [
    "df2 = pd.read_csv('C:\\\\Users\\\\Alfa\\\\OneDrive\\\\Desktop\\\\python\\\\pandas for ml\\\\dogs.csv')\n",
    "# we can give relative address if the csv file is in the same directory\n",
    "# path dile double slash dite hobe, to avoid escape characters\n",
    "df2"
   ]
  },
  {
   "cell_type": "code",
   "execution_count": null,
   "metadata": {},
   "outputs": [],
   "source": [
    "# pull out rows\n",
    "\n",
    "df2.loc[0]"
   ]
  },
  {
   "cell_type": "code",
   "execution_count": null,
   "metadata": {},
   "outputs": [],
   "source": [
    "# pull out multiple rows \n",
    "df2.loc[[0,5]]"
   ]
  },
  {
   "cell_type": "markdown",
   "metadata": {},
   "source": [
    "# **Head & Tail functions**\n",
    "**pulling rows with these functions**"
   ]
  },
  {
   "cell_type": "code",
   "execution_count": null,
   "metadata": {},
   "outputs": [],
   "source": [
    "#grab the first 5 data\n",
    "\n",
    "df2.head(3) # equivalent to df2[:3] slicing technique\n",
    "# n rows output kore\n",
    "# default n = 5\n",
    "# if n<0 then last |n| number of elements baade shob print kore "
   ]
  },
  {
   "cell_type": "code",
   "execution_count": null,
   "metadata": {},
   "outputs": [],
   "source": [
    "# grab first 9 rows\n",
    "df2.head(9)"
   ]
  },
  {
   "cell_type": "code",
   "execution_count": null,
   "metadata": {},
   "outputs": [],
   "source": [
    "# grab the last 5 rows\n",
    "# head er ulta tail\n",
    "df2.tail()"
   ]
  },
  {
   "cell_type": "markdown",
   "metadata": {},
   "source": [
    "# **info() function**\n",
    "get information about the data frame"
   ]
  },
  {
   "cell_type": "code",
   "execution_count": 30,
   "metadata": {},
   "outputs": [
    {
     "name": "stdout",
     "output_type": "stream",
     "text": [
      "<class 'pandas.core.frame.DataFrame'>\n",
      "RangeIndex: 20580 entries, 0 to 20579\n",
      "Data columns (total 8 columns):\n",
      " #   Column           Non-Null Count  Dtype \n",
      "---  ------           --------------  ----- \n",
      " 0   Unnamed: 0       20580 non-null  int64 \n",
      " 1   breed            20580 non-null  object\n",
      " 2   image_path       20580 non-null  object\n",
      " 3   annotation_path  20580 non-null  object\n",
      " 4   xmin             20580 non-null  int64 \n",
      " 5   ymin             20580 non-null  int64 \n",
      " 6   xmax             20580 non-null  int64 \n",
      " 7   ymax             20580 non-null  int64 \n",
      "dtypes: int64(5), object(3)\n",
      "memory usage: 1.3+ MB\n"
     ]
    }
   ],
   "source": [
    "df2.info()"
   ]
  },
  {
   "cell_type": "markdown",
   "metadata": {},
   "source": [
    "# **Shape** returns tuples representing dimensionality\n",
    "get the number of rows and colums"
   ]
  },
  {
   "cell_type": "code",
   "execution_count": 34,
   "metadata": {},
   "outputs": [
    {
     "data": {
      "text/plain": [
       "(20580, 8)"
      ]
     },
     "execution_count": 34,
     "metadata": {},
     "output_type": "execute_result"
    }
   ],
   "source": [
    "df2.shape\n",
    "\n",
    "#output: (row,columns)"
   ]
  },
  {
   "cell_type": "markdown",
   "metadata": {},
   "source": [
    "# **ndim: int (property)**\n",
    "Return an int representing the number of axes / array dimensions.\n",
    "\n",
    "Return 1 if Series. Otherwise return 2 if DataFrame."
   ]
  },
  {
   "cell_type": "code",
   "execution_count": 35,
   "metadata": {},
   "outputs": [
    {
     "data": {
      "text/plain": [
       "2"
      ]
     },
     "execution_count": 35,
     "metadata": {},
     "output_type": "execute_result"
    }
   ],
   "source": [
    "df2.ndim"
   ]
  },
  {
   "cell_type": "markdown",
   "metadata": {},
   "source": [
    "# **dtypes: Series (property)**\n",
    "Return the dtypes in the DataFrame.\n",
    "\n",
    "This returns a Series with the data type of each column. The result's index is the original DataFrame's columns. Columns with mixed types are stored with the object dtype."
   ]
  },
  {
   "cell_type": "code",
   "execution_count": 36,
   "metadata": {},
   "outputs": [
    {
     "data": {
      "text/plain": [
       "Unnamed: 0          int64\n",
       "breed              object\n",
       "image_path         object\n",
       "annotation_path    object\n",
       "xmin                int64\n",
       "ymin                int64\n",
       "xmax                int64\n",
       "ymax                int64\n",
       "dtype: object"
      ]
     },
     "execution_count": 36,
     "metadata": {},
     "output_type": "execute_result"
    }
   ],
   "source": [
    "df2.dtypes"
   ]
  },
  {
   "cell_type": "markdown",
   "metadata": {},
   "source": [
    "# **def describe(**\n",
    "    percentiles: list[float] | None = ...,\n",
    "    include: list[Dtype] | Literal['all'] | None = ...,\n",
    "    exclude: list[Dtype] | None = ...,\n",
    "    datetime_is_numeric: _bool | None = ...\n",
    " ) -> **DataFrame**\n",
    "\n",
    "**Generate descriptive statistics.**\n",
    "\n",
    "Descriptive statistics include those that summarize the central tendency, dispersion and shape of a dataset's distribution, excluding NaN values.\n",
    "\n",
    "Analyzes both numeric and object series, as well as DataFrame column sets of mixed data types. The output will vary depending on what is provided. Refer to the notes below for more detail."
   ]
  },
  {
   "cell_type": "code",
   "execution_count": 37,
   "metadata": {},
   "outputs": [
    {
     "data": {
      "text/html": [
       "<div>\n",
       "<style scoped>\n",
       "    .dataframe tbody tr th:only-of-type {\n",
       "        vertical-align: middle;\n",
       "    }\n",
       "\n",
       "    .dataframe tbody tr th {\n",
       "        vertical-align: top;\n",
       "    }\n",
       "\n",
       "    .dataframe thead th {\n",
       "        text-align: right;\n",
       "    }\n",
       "</style>\n",
       "<table border=\"1\" class=\"dataframe\">\n",
       "  <thead>\n",
       "    <tr style=\"text-align: right;\">\n",
       "      <th></th>\n",
       "      <th>Unnamed: 0</th>\n",
       "      <th>xmin</th>\n",
       "      <th>ymin</th>\n",
       "      <th>xmax</th>\n",
       "      <th>ymax</th>\n",
       "    </tr>\n",
       "  </thead>\n",
       "  <tbody>\n",
       "    <tr>\n",
       "      <th>count</th>\n",
       "      <td>20580.000000</td>\n",
       "      <td>20580.000000</td>\n",
       "      <td>20580.000000</td>\n",
       "      <td>20580.000000</td>\n",
       "      <td>20580.000000</td>\n",
       "    </tr>\n",
       "    <tr>\n",
       "      <th>mean</th>\n",
       "      <td>10289.500000</td>\n",
       "      <td>77.120262</td>\n",
       "      <td>56.714869</td>\n",
       "      <td>364.937512</td>\n",
       "      <td>352.755442</td>\n",
       "    </tr>\n",
       "    <tr>\n",
       "      <th>std</th>\n",
       "      <td>5941.078606</td>\n",
       "      <td>76.986287</td>\n",
       "      <td>59.949263</td>\n",
       "      <td>130.236919</td>\n",
       "      <td>123.085673</td>\n",
       "    </tr>\n",
       "    <tr>\n",
       "      <th>min</th>\n",
       "      <td>0.000000</td>\n",
       "      <td>0.000000</td>\n",
       "      <td>0.000000</td>\n",
       "      <td>28.000000</td>\n",
       "      <td>31.000000</td>\n",
       "    </tr>\n",
       "    <tr>\n",
       "      <th>25%</th>\n",
       "      <td>5144.750000</td>\n",
       "      <td>15.000000</td>\n",
       "      <td>13.000000</td>\n",
       "      <td>290.000000</td>\n",
       "      <td>287.000000</td>\n",
       "    </tr>\n",
       "    <tr>\n",
       "      <th>50%</th>\n",
       "      <td>10289.500000</td>\n",
       "      <td>57.000000</td>\n",
       "      <td>40.000000</td>\n",
       "      <td>359.000000</td>\n",
       "      <td>338.000000</td>\n",
       "    </tr>\n",
       "    <tr>\n",
       "      <th>75%</th>\n",
       "      <td>15434.250000</td>\n",
       "      <td>121.000000</td>\n",
       "      <td>82.000000</td>\n",
       "      <td>439.000000</td>\n",
       "      <td>398.000000</td>\n",
       "    </tr>\n",
       "    <tr>\n",
       "      <th>max</th>\n",
       "      <td>20579.000000</td>\n",
       "      <td>1230.000000</td>\n",
       "      <td>1548.000000</td>\n",
       "      <td>2735.000000</td>\n",
       "      <td>2457.000000</td>\n",
       "    </tr>\n",
       "  </tbody>\n",
       "</table>\n",
       "</div>"
      ],
      "text/plain": [
       "         Unnamed: 0          xmin          ymin          xmax          ymax\n",
       "count  20580.000000  20580.000000  20580.000000  20580.000000  20580.000000\n",
       "mean   10289.500000     77.120262     56.714869    364.937512    352.755442\n",
       "std     5941.078606     76.986287     59.949263    130.236919    123.085673\n",
       "min        0.000000      0.000000      0.000000     28.000000     31.000000\n",
       "25%     5144.750000     15.000000     13.000000    290.000000    287.000000\n",
       "50%    10289.500000     57.000000     40.000000    359.000000    338.000000\n",
       "75%    15434.250000    121.000000     82.000000    439.000000    398.000000\n",
       "max    20579.000000   1230.000000   1548.000000   2735.000000   2457.000000"
      ]
     },
     "execution_count": 37,
     "metadata": {},
     "output_type": "execute_result"
    }
   ],
   "source": [
    "df2.describe() # gives info about numerical comumns only"
   ]
  },
  {
   "cell_type": "code",
   "execution_count": 38,
   "metadata": {},
   "outputs": [
    {
     "data": {
      "text/plain": [
       "count           20580\n",
       "unique            120\n",
       "top       maltese-dog\n",
       "freq              252\n",
       "Name: breed, dtype: object"
      ]
     },
     "execution_count": 38,
     "metadata": {},
     "output_type": "execute_result"
    }
   ],
   "source": [
    "# describe a specific column\n",
    "df2[\"breed\"].describe()"
   ]
  },
  {
   "cell_type": "code",
   "execution_count": 39,
   "metadata": {},
   "outputs": [
    {
     "data": {
      "text/plain": [
       "0                  chihuahua\n",
       "1                  chihuahua\n",
       "2                  chihuahua\n",
       "3                  chihuahua\n",
       "4                  chihuahua\n",
       "                ...         \n",
       "20575    african-hunting-dog\n",
       "20576    african-hunting-dog\n",
       "20577    african-hunting-dog\n",
       "20578    african-hunting-dog\n",
       "20579    african-hunting-dog\n",
       "Name: breed, Length: 20580, dtype: object"
      ]
     },
     "execution_count": 39,
     "metadata": {},
     "output_type": "execute_result"
    }
   ],
   "source": [
    "# select specific column using bracket\n",
    "df2[\"breed\"]"
   ]
  },
  {
   "cell_type": "code",
   "execution_count": 40,
   "metadata": {},
   "outputs": [
    {
     "data": {
      "text/plain": [
       "0                  chihuahua\n",
       "1                  chihuahua\n",
       "2                  chihuahua\n",
       "3                  chihuahua\n",
       "4                  chihuahua\n",
       "                ...         \n",
       "20575    african-hunting-dog\n",
       "20576    african-hunting-dog\n",
       "20577    african-hunting-dog\n",
       "20578    african-hunting-dog\n",
       "20579    african-hunting-dog\n",
       "Name: breed, Length: 20580, dtype: object"
      ]
     },
     "execution_count": 40,
     "metadata": {},
     "output_type": "execute_result"
    }
   ],
   "source": [
    "# select specific column using dot notation\n",
    "df2.breed"
   ]
  },
  {
   "cell_type": "code",
   "execution_count": 42,
   "metadata": {},
   "outputs": [
    {
     "data": {
      "text/plain": [
       "0    chihuahua\n",
       "1    chihuahua\n",
       "2    chihuahua\n",
       "3    chihuahua\n",
       "Name: breed, dtype: object"
      ]
     },
     "execution_count": 42,
     "metadata": {},
     "output_type": "execute_result"
    }
   ],
   "source": [
    "# select specific column using location(.iloc)\n",
    "\n",
    "df2.iloc[:4,1] #iloc[slicing, columns number]"
   ]
  },
  {
   "cell_type": "code",
   "execution_count": 44,
   "metadata": {},
   "outputs": [
    {
     "data": {
      "text/plain": [
       "'chihuahua'"
      ]
     },
     "execution_count": 44,
     "metadata": {},
     "output_type": "execute_result"
    }
   ],
   "source": [
    "df2.iloc[2,1]"
   ]
  },
  {
   "cell_type": "code",
   "execution_count": null,
   "metadata": {},
   "outputs": [],
   "source": []
  }
 ],
 "metadata": {
  "kernelspec": {
   "display_name": "Python 3",
   "language": "python",
   "name": "python3"
  },
  "language_info": {
   "codemirror_mode": {
    "name": "ipython",
    "version": 3
   },
   "file_extension": ".py",
   "mimetype": "text/x-python",
   "name": "python",
   "nbconvert_exporter": "python",
   "pygments_lexer": "ipython3",
   "version": "3.11.2"
  }
 },
 "nbformat": 4,
 "nbformat_minor": 2
}
